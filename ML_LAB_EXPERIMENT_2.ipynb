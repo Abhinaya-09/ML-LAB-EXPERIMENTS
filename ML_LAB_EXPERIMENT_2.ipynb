{
  "nbformat": 4,
  "nbformat_minor": 0,
  "metadata": {
    "colab": {
      "provenance": [],
      "include_colab_link": true
    },
    "kernelspec": {
      "name": "python3",
      "display_name": "Python 3"
    },
    "language_info": {
      "name": "python"
    }
  },
  "cells": [
    {
      "cell_type": "markdown",
      "metadata": {
        "id": "view-in-github",
        "colab_type": "text"
      },
      "source": [
        "<a href=\"https://colab.research.google.com/github/Abhinaya-09/ML-LAB-EXPERIMENTS/blob/main/ML_LAB_EXPERIMENT_2.ipynb\" target=\"_parent\"><img src=\"https://colab.research.google.com/assets/colab-badge.svg\" alt=\"Open In Colab\"/></a>"
      ]
    },
    {
      "cell_type": "markdown",
      "source": [
        "2 .For a given set of training data examples stored in a .CSV file implement and demonstrate the Candidate-Elimination algorithm to output a description of the set of all hypotheses consistent with the training examples."
      ],
      "metadata": {
        "id": "vUHC6LA3Q4_U"
      }
    },
    {
      "cell_type": "code",
      "source": [
        "import csv\n",
        "\n",
        "def g_0(n):\n",
        "    return (\"?\",) * n\n",
        "\n",
        "def s_0(n):\n",
        "    return ('0',) * n\n",
        "\n",
        "def more_general(h1, h2):\n",
        "    more_general_parts = []\n",
        "    for x, y in zip(h1, h2):\n",
        "        mg = x == \"?\" or (x != \"0\" and (x == y or y == \"0\"))\n",
        "        more_general_parts.append(mg)\n",
        "    return all(more_general_parts)\n"
      ],
      "metadata": {
        "id": "bboaatroGoje"
      },
      "execution_count": 1,
      "outputs": []
    },
    {
      "cell_type": "code",
      "source": [
        "def fulfills(example, hypothesis):\n",
        "    return more_general(hypothesis, example)\n",
        "\n",
        "def min_generalizations(h, x):\n",
        "    h_new = list(h)\n",
        "    for i in range(len(h)):\n",
        "        if not fulfills(x[i:i+1], h[i:i+1]):\n",
        "            h_new[i] = '?' if h[i] != '0' else x[i]\n",
        "    return [tuple(h_new)]"
      ],
      "metadata": {
        "id": "p2WxKVanQ-1w"
      },
      "execution_count": 2,
      "outputs": []
    },
    {
      "cell_type": "code",
      "source": [
        "def min_specializations(h, domains, x):\n",
        "    results = []\n",
        "    for i in range(len(h)):\n",
        "        if h[i] == \"?\":\n",
        "            for val in domains[i]:\n",
        "                if x[i] != val:\n",
        "                    h_new = h[:i] + (val,) + h[i+1:]\n",
        "                    results.append(h_new)\n",
        "        elif h[i] != \"0\":\n",
        "            h_new = h[:i] + ('0',) + h[i+1:]\n",
        "            results.append(h_new)\n",
        "    return results"
      ],
      "metadata": {
        "id": "HNMhdzLhRED-"
      },
      "execution_count": 3,
      "outputs": []
    },
    {
      "cell_type": "code",
      "source": [
        "def get_domains(examples):\n",
        "    d = [set() for i in examples[0]]\n",
        "    for x in examples:\n",
        "        for i, xi in enumerate(x):\n",
        "            d[i].add(xi)\n",
        "    return [list(sorted(x)) for x in d]\n"
      ],
      "metadata": {
        "id": "7zI15N_qRGTE"
      },
      "execution_count": 4,
      "outputs": []
    },
    {
      "cell_type": "code",
      "source": [
        "\n",
        "\n",
        "def candidate_elimination(examples):\n",
        "    domains = get_domains(examples)[:-1]\n",
        "    G = set([g_0(len(domains))])\n",
        "    S = set([s_0(len(domains))])\n",
        "    i = 0\n",
        "    print(\"\\n G[{0}]:\".format(i), G)\n",
        "    print(\"\\n S[{0}]:\".format(i), S)\n",
        "    for xcx in examples:\n",
        "        i = i + 1\n",
        "        x, cx = xcx[:-1], xcx[-1]  # Splitting data into attributes and decisions\n",
        "        if cx == 'Y':  # x is positive example\n",
        "            G = {g for g in G if fulfills(x, g)}\n",
        "            S = generalize_S(x, G, S)\n",
        "        else:  # x is negative example\n",
        "            S = {s for s in S if not fulfills(x, s)}\n",
        "            G = specialize_G(x, domains, G, S)\n",
        "        print(\"\\n G[{0}]:\".format(i), G)\n",
        "        print(\"\\n S[{0}]:\".format(i), S)\n",
        "    print(\"\\nFinal General Hypothesis (G):\", G)\n",
        "    print(\"\\nFinal Specific Hypothesis (S):\", S)\n",
        "    return"
      ],
      "metadata": {
        "id": "ntasxgwQRIz1"
      },
      "execution_count": 5,
      "outputs": []
    },
    {
      "cell_type": "code",
      "source": [
        "def generalize_S(x, G, S):\n",
        "    S_prev = list(S)\n",
        "    for s in S_prev:\n",
        "        if s not in S:\n",
        "            continue\n",
        "        if not fulfills(x, s):\n",
        "            S.remove(s)\n",
        "            Splus = min_generalizations(s, x)\n",
        "            # Keep only generalizations that have a counterpart in G\n",
        "            S.update([h for h in Splus if any([more_general(g, h) for g in G])])\n",
        "            # Remove hypotheses less specific than any other in S\n",
        "            S.difference_update([h for h in S if any([more_general(h, h1) for h1 in S if h != h1])])\n",
        "    return S"
      ],
      "metadata": {
        "id": "YTE2hSTjRK0Q"
      },
      "execution_count": null,
      "outputs": []
    },
    {
      "cell_type": "code",
      "source": [
        "def specialize_G(x, domains, G, S):\n",
        "    G_prev = list(G)\n",
        "    for g in G_prev:\n",
        "        if g not in G:\n",
        "            continue\n",
        "        if fulfills(x, g):\n",
        "            G.remove(g)\n",
        "            Gminus = min_specializations(g, domains, x)\n",
        "            # Keep only specializations that have a counterpart in S\n",
        "            G.update([h for h in Gminus if any([more_general(h, s) for s in S])])\n",
        "            # Remove hypotheses less general than any other in G\n",
        "            G.difference_update([h for h in G if any([more_general(g1, h) for g1 in G if h != g1])])\n",
        "    return G"
      ],
      "metadata": {
        "id": "Q7ZWc3uGRNR9"
      },
      "execution_count": 6,
      "outputs": []
    },
    {
      "cell_type": "code",
      "source": [
        "\n",
        "# Load the examples from a CSV file\n",
        "with open('/content/Lab2.csv') as csvFile:\n",
        "    examples = [tuple(line) for line in csv.reader(csvFile)]"
      ],
      "metadata": {
        "id": "dIOnhr_pRQi7"
      },
      "execution_count": 7,
      "outputs": []
    },
    {
      "cell_type": "code",
      "source": [
        "# Function to check if a hypothesis fulfills an example\n",
        "def fulfills(example, hypothesis):\n",
        "    return all(h == '?' or h == e for h, e in zip(hypothesis, example))\n",
        "\n",
        "# Function to generalize the specific hypothesis S\n",
        "def generalize_S(example, G, S):\n",
        "    new_S = list(S.copy())\n",
        "    for s in S:\n",
        "        if not fulfills(example, s):\n",
        "            new_S.remove(s)\n",
        "            general_hypothesis = list(s)\n",
        "            for i in range(len(s)):\n",
        "                if s[i] != example[i]:\n",
        "                    general_hypothesis[i] = '?'\n",
        "            if any(fulfills(general_hypothesis, g) for g in G):\n",
        "                new_S.append(tuple(general_hypothesis))\n",
        "    return set(new_S)\n",
        "\n",
        "# Candidate elimination algorithm\n",
        "def candidate_elimination(examples):\n",
        "    G = {('?', '?', '?', '?', '?', '?')}\n",
        "    S = {('0', '0', '0', '0', '0', '0')}\n",
        "\n",
        "    for i, example in enumerate(examples):\n",
        "        x, cx = example[:-1], example[-1]\n",
        "        print(f\"\\nExample {i+1}: {example}\")\n",
        "\n",
        "        if cx == 'Y':  # Positive example\n",
        "            G = {g for g in G if fulfills(x, g)}\n",
        "            S = generalize_S(x, G, S)\n",
        "        else:  # Negative example\n",
        "            S = {s for s in S if not fulfills(x, s)}\n",
        "            G = specialize_G(x, G, S)\n",
        "\n",
        "        print(f\"G[{i+1}]: {G}\")\n",
        "        print(f\"S[{i+1}]: {S}\")\n",
        "\n",
        "# Function to specialize the general hypothesis G\n",
        "def specialize_G(example, G, S):\n",
        "    new_G = list(G.copy())\n",
        "    for g in G:\n",
        "        if fulfills(example, g):\n",
        "            new_G.remove(g)\n",
        "            for i in range(len(g)):\n",
        "                if g[i] == '?':\n",
        "                    specialized_hypothesis = list(g)\n",
        "                    specialized_hypothesis[i] = example[i]\n",
        "                    if any(fulfills(specialized_hypothesis, s) for s in S):\n",
        "                        new_G.append(tuple(specialized_hypothesis))\n",
        "    return set(new_G)\n",
        "\n",
        "# Load the examples from a CSV file\n",
        "import csv\n",
        "with open('/content/Lab2.csv') as csvFile:\n",
        "    examples = [tuple(line) for line in csv.reader(csvFile)]\n",
        "\n",
        "# Run the candidate elimination algorithm\n",
        "candidate_elimination(examples)\n"
      ],
      "metadata": {
        "colab": {
          "base_uri": "https://localhost:8080/"
        },
        "id": "jdQo_3EMRTCh",
        "outputId": "eb0bf684-b739-412d-91b5-45260b5fb9e7"
      },
      "execution_count": 11,
      "outputs": [
        {
          "output_type": "stream",
          "name": "stdout",
          "text": [
            "\n",
            "Example 1: ('Sunny', 'Warm', 'Normal', 'Strong', 'Warm', 'Same', 'Y')\n",
            "G[1]: {('?', '?', '?', '?', '?', '?')}\n",
            "S[1]: {('?', '?', '?', '?', '?', '?')}\n",
            "\n",
            "Example 2: ('Sunny', 'Warm', 'High', 'Strong', 'Warm', 'Same', 'Y')\n",
            "G[2]: {('?', '?', '?', '?', '?', '?')}\n",
            "S[2]: {('?', '?', '?', '?', '?', '?')}\n",
            "\n",
            "Example 3: ('Rainy', 'Cold', 'High', 'Strong', 'Warm', 'Change', 'N')\n",
            "G[3]: set()\n",
            "S[3]: set()\n",
            "\n",
            "Example 4: ('Sunny', 'Warm', 'High', 'Strong', 'Cool', 'Change', 'Y')\n",
            "G[4]: set()\n",
            "S[4]: set()\n"
          ]
        }
      ]
    }
  ]
}